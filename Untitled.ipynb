{
 "cells": [
  {
   "cell_type": "markdown",
   "id": "2b4f7b56",
   "metadata": {},
   "source": [
    "<div style=\"text-align:center\">\n",
    "<img src=\"https://www.commonwealthofnations.org/wp-content/uploads/2015/03/MUST-logo-300x300.png\"\n",
    "     alt=\"MUST LOGO\"/>\n",
    "</div>"
   ]
  },
  {
   "cell_type": "markdown",
   "id": "48de4b13",
   "metadata": {},
   "source": [
    "     \n",
    "<div style=\"text-align:center\">\n",
    "<h1 style = \"color : #0B6623\">FRUIT CLASSIFICATION MODEL</h1>\n",
    "<h5> ASSIGNMENT TWO </h5>\n",
    "<h5> GROUP MEMBERS </h5>\n",
    "</div>\n",
    "\n",
    "\n",
    "##### STEP ONE (IMPORTING LIBRARIES, DATASET && INSPECTING THE DATASET \n",
    "- ARINJUNA SARAH             <strong> 2020/BCS/093/PS</strong>\n",
    "\n",
    "##### STEP TWO (PREPROCESSING DATA && SPLITTING THE DATA\n",
    "- OKWAKUNDA GLORIA           <strong> 2020/BCS/091/PS</strong>\n",
    "- KAYINZA MARIAM             <strong> 2020/BCS/036/PS</strong>\n",
    "\n",
    "##### STEP THREE ( DATA STANDARDIZATION, ARGUMENTATION, CACHING && SHUFFLING)\n",
    "- AINAMANI CHRISTIAN         <strong> 2020/BCS/001</strong>\n",
    "- MAYANJA ROBERT             <strong> 2020/BCS/043/PS</strong>\n",
    "\n",
    "#### STEP FOUR (Building the Model, ARCHITECTURE && TRAINING)\n",
    "- WESONGA BOB                <strong> 2020/BCS/092/PS</strong>\n",
    "- SIEMBA ERNEST OOKO         <strong> 2020/BCS/005</strong>\n",
    "\n",
    "#### STEP FIVE (EVALUATION && EXPORTING THE MODEL\n",
    "- ATWANZIRE TIMOTHY IAN      <strong> 2020/BCS/026/PS</strong>\n",
    "- KATUSHABE MOREEN           <strong> 2020/BCS/034/PS</strong>\n",
    "\n",
    "\n",
    "https://www.kaggle.com/datasets/arnavmehta710a/fids30 OR https://www.vicos.si/resources/fids30\n"
   ]
  },
  {
   "cell_type": "code",
   "execution_count": 1,
   "id": "1fca6e2b",
   "metadata": {},
   "outputs": [
    {
     "ename": "NameError",
     "evalue": "name 'history' is not defined",
     "output_type": "error",
     "traceback": [
      "\u001b[0;31m---------------------------------------------------------------------------\u001b[0m",
      "\u001b[0;31mNameError\u001b[0m                                 Traceback (most recent call last)",
      "Cell \u001b[0;32mIn[1], line 1\u001b[0m\n\u001b[0;32m----> 1\u001b[0m \u001b[43mhistory\u001b[49m\u001b[38;5;241m.\u001b[39mparams\n",
      "\u001b[0;31mNameError\u001b[0m: name 'history' is not defined"
     ]
    }
   ],
   "source": [
    "history.params"
   ]
  },
  {
   "cell_type": "code",
   "execution_count": null,
   "id": "85fda9da",
   "metadata": {},
   "outputs": [],
   "source": []
  }
 ],
 "metadata": {
  "kernelspec": {
   "display_name": "Python 3 (ipykernel)",
   "language": "python",
   "name": "python3"
  },
  "language_info": {
   "codemirror_mode": {
    "name": "ipython",
    "version": 3
   },
   "file_extension": ".py",
   "mimetype": "text/x-python",
   "name": "python",
   "nbconvert_exporter": "python",
   "pygments_lexer": "ipython3",
   "version": "3.10.9"
  }
 },
 "nbformat": 4,
 "nbformat_minor": 5
}
